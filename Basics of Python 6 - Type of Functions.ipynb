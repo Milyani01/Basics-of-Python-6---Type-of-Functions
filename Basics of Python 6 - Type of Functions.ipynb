{
 "cells": [
  {
   "cell_type": "markdown",
   "id": "348cb493",
   "metadata": {},
   "source": [
    "# Type of Function"
   ]
  },
  {
   "cell_type": "markdown",
   "id": "62397d1d",
   "metadata": {},
   "source": [
    "**1.Built-in Functions:**\n",
    "These are functions that are built into the Python language. \n",
    "Examples include print(), len(), input(), range(), etc.\n",
    "\n",
    "**2.User-defined Functions:**\n",
    "These are functions defined by the user to perform a specific task.\n",
    "They are defined using the def keyword. \n",
    "\n",
    "**3.Anonymous Functions (Lambda Functions):** \n",
    "These are small, anonymous functions defined using the lambda keyword. \n",
    "They can have any number of arguments but can only have one expression.\n",
    "\n",
    "**4.Recursive Functions:**\n",
    "These are functions that call themselves directly or indirectly in order to solve a problem.\n",
    "Recursion is a common technique used in algorithms and mathematical problems.\n",
    "\n",
    "**5.Higher-order Functions:**\n",
    "These are functions that can take other functions as arguments or return functions as output. \n",
    "Examples include map(), filter(), reduce(), etc.\n",
    "\n",
    "**6.Generator Functions:**\n",
    "A Generator in Python returns an iterator that produces a sequesnce of value one at a time.\n",
    "They are defined using 'yield' statement insted of 'return'.\n",
    "It is perticularly usefull for handleling large amount of data or when you want to iterate over a sequence withput storing a entire sequence in the memory.\n",
    "\n",
    "**7.Decorator Functions:**\n",
    "In python, Decorators are special function that are extra functionality to another function.\n",
    "they do this without changing the other function code directly."
   ]
  },
  {
   "cell_type": "code",
   "execution_count": null,
   "id": "03ed2d4d",
   "metadata": {},
   "outputs": [],
   "source": []
  },
  {
   "cell_type": "markdown",
   "id": "d8ee5b11",
   "metadata": {},
   "source": [
    "**1.Built-in Functions** and **2.User-defined Functions**\n",
    "Are allready practiced in previous practice sets."
   ]
  },
  {
   "cell_type": "markdown",
   "id": "0eb2003b",
   "metadata": {},
   "source": [
    "# 3.Anonymous Functions (Lambda Functions):"
   ]
  },
  {
   "cell_type": "markdown",
   "id": "01aef8c6",
   "metadata": {},
   "source": [
    "                                 Syntax = Lambda arguments:expression"
   ]
  },
  {
   "cell_type": "markdown",
   "id": "2998032f",
   "metadata": {},
   "source": [
    "1.Write a Python program that adds two numbers using a lambda function."
   ]
  },
  {
   "cell_type": "code",
   "execution_count": 6,
   "id": "4accd195",
   "metadata": {},
   "outputs": [
    {
     "name": "stdout",
     "output_type": "stream",
     "text": [
      "7\n"
     ]
    }
   ],
   "source": [
    "add=lambda x,y:x+y\n",
    "print(add(3,4))\n"
   ]
  },
  {
   "cell_type": "code",
   "execution_count": 10,
   "id": "b153ddb8",
   "metadata": {},
   "outputs": [
    {
     "name": "stdout",
     "output_type": "stream",
     "text": [
      "Enter First Number to add = 3\n",
      "Enter Second Number to add = 5\n",
      "Addition of 3 + 5 = 8\n"
     ]
    }
   ],
   "source": [
    "#using input function\n",
    "add=lambda x,y:x+y\n",
    "input1=int(input(\"Enter First Number to add = \"))\n",
    "input2=int(input(\"Enter Second Number to add = \"))\n",
    "print(f\"Addition of {input1} + {input2} = {add(input1,input2)}\")"
   ]
  },
  {
   "cell_type": "markdown",
   "id": "0d67ede9",
   "metadata": {},
   "source": [
    "2. Write a Python program that divides two numbers using a lambda function."
   ]
  },
  {
   "cell_type": "code",
   "execution_count": 4,
   "id": "0c637f8c",
   "metadata": {},
   "outputs": [
    {
     "name": "stdout",
     "output_type": "stream",
     "text": [
      "Enter First Number = 10\n",
      "Enter Second Number  = 5\n"
     ]
    },
    {
     "data": {
      "text/plain": [
       "2.0"
      ]
     },
     "execution_count": 4,
     "metadata": {},
     "output_type": "execute_result"
    }
   ],
   "source": [
    "divide=lambda x,y:x//y if y!=0 else \"cananot devide by zero\"\n",
    "input1=int(input(\"Enter First Number = \"))\n",
    "input2=int(input(\"Enter Second Number  = \"))\n",
    "divide(input1,input2)\n",
    "\n"
   ]
  },
  {
   "cell_type": "markdown",
   "id": "5f24920d",
   "metadata": {},
   "source": [
    "3. Write a Python program that calculates the square of a number using a lambda function."
   ]
  },
  {
   "cell_type": "code",
   "execution_count": 6,
   "id": "dc7272d5",
   "metadata": {},
   "outputs": [
    {
     "name": "stdout",
     "output_type": "stream",
     "text": [
      "Enter Number to get power of that = 10\n",
      " Square of 10 is 100\n"
     ]
    }
   ],
   "source": [
    "power_of_num=lambda x:x**2\n",
    "input1=int(input(\"Enter Number to get power of that = \"))\n",
    "print(f\" Square of {input1} is {power_of_num(input1)}\")\n"
   ]
  },
  {
   "cell_type": "markdown",
   "id": "ad5cf81a",
   "metadata": {},
   "source": [
    "# 4.Recursive Functions"
   ]
  },
  {
   "cell_type": "code",
   "execution_count": 10,
   "id": "bee949f9",
   "metadata": {},
   "outputs": [
    {
     "data": {
      "text/plain": [
       "24"
      ]
     },
     "execution_count": 10,
     "metadata": {},
     "output_type": "execute_result"
    }
   ],
   "source": [
    "def factorial(x):\n",
    "    if x==0:\n",
    "        return 1\n",
    "    else:\n",
    "        return x*factorial(x-1)\n",
    "factorial(4)"
   ]
  },
  {
   "cell_type": "markdown",
   "id": "f0096323",
   "metadata": {},
   "source": [
    "# 5.Higher-order Functions"
   ]
  },
  {
   "cell_type": "markdown",
   "id": "b4f573af",
   "metadata": {},
   "source": [
    "### 1. map()"
   ]
  },
  {
   "cell_type": "markdown",
   "id": "2a92cc9c",
   "metadata": {},
   "source": [
    "1. Find the square of every numbers in list,give the result in list."
   ]
  },
  {
   "cell_type": "markdown",
   "id": "ba36f1b1",
   "metadata": {},
   "source": [
    "using for loop, "
   ]
  },
  {
   "cell_type": "code",
   "execution_count": 12,
   "id": "12964514",
   "metadata": {},
   "outputs": [
    {
     "name": "stdout",
     "output_type": "stream",
     "text": [
      "[1, 4, 9, 16, 25, 36, 49]\n"
     ]
    }
   ],
   "source": [
    "list1=[1,2,3,4,5,6,7]\n",
    "square=[]\n",
    "for num in list1:\n",
    "    square.append(num**2)\n",
    "print(square)"
   ]
  },
  {
   "cell_type": "markdown",
   "id": "5cb5f807",
   "metadata": {},
   "source": [
    "using map(),"
   ]
  },
  {
   "cell_type": "code",
   "execution_count": 14,
   "id": "e8331e32",
   "metadata": {},
   "outputs": [
    {
     "name": "stdout",
     "output_type": "stream",
     "text": [
      "[1, 4, 9, 16, 25, 36, 49]\n"
     ]
    }
   ],
   "source": [
    "list1=[1,2,3,4,5,6,7]\n",
    "square=list(map(lambda x:x**2,list1))\n",
    "print(square)"
   ]
  },
  {
   "cell_type": "markdown",
   "id": "35aed048",
   "metadata": {},
   "source": [
    "2.Write a Python program to calculate the lengths of strings in a list using the map() function."
   ]
  },
  {
   "cell_type": "code",
   "execution_count": 16,
   "id": "31aab08f",
   "metadata": {},
   "outputs": [
    {
     "name": "stdout",
     "output_type": "stream",
     "text": [
      "[5, 6, 6]\n"
     ]
    }
   ],
   "source": [
    "strings = ['apple', 'banana', 'cherry']\n",
    "length=list(map(len,strings))\n",
    "print(length)"
   ]
  },
  {
   "cell_type": "markdown",
   "id": "de0ca2a3",
   "metadata": {},
   "source": [
    "3.Write a Python program to find the square roots of numbers in a list using the map() function."
   ]
  },
  {
   "cell_type": "code",
   "execution_count": 18,
   "id": "ec8088ba",
   "metadata": {},
   "outputs": [
    {
     "name": "stdout",
     "output_type": "stream",
     "text": [
      "[2.0, 3.0, 4.0]\n"
     ]
    }
   ],
   "source": [
    "list1=[4,9,16]\n",
    "square_root=list(map(lambda x:x**0.5,list1))\n",
    "print(square_root)"
   ]
  },
  {
   "cell_type": "markdown",
   "id": "53c54111",
   "metadata": {},
   "source": [
    "### 2. Reduce()"
   ]
  },
  {
   "cell_type": "markdown",
   "id": "573d9513",
   "metadata": {},
   "source": [
    "1. Give the addition of the list."
   ]
  },
  {
   "cell_type": "code",
   "execution_count": 23,
   "id": "032a6299",
   "metadata": {},
   "outputs": [
    {
     "data": {
      "text/plain": [
       "15"
      ]
     },
     "execution_count": 23,
     "metadata": {},
     "output_type": "execute_result"
    }
   ],
   "source": [
    "from functools import reduce\n",
    "numbers = [1, 2, 3, 4, 5]\n",
    "total = reduce(lambda x, y: x + y, numbers)\n",
    "total"
   ]
  },
  {
   "cell_type": "markdown",
   "id": "dd3e535d",
   "metadata": {},
   "source": [
    "Write a Python program to find the maximum element in a list using the reduce() function."
   ]
  },
  {
   "cell_type": "code",
   "execution_count": 26,
   "id": "e0ef98b7",
   "metadata": {},
   "outputs": [
    {
     "data": {
      "text/plain": [
       "25"
      ]
     },
     "execution_count": 26,
     "metadata": {},
     "output_type": "execute_result"
    }
   ],
   "source": [
    "from functools import reduce\n",
    "numbers = [25, 2, 3, 10, 5]\n",
    "max_num=reduce(lambda x,y:x if x>y else y,numbers)\n",
    "max_num"
   ]
  },
  {
   "cell_type": "markdown",
   "id": "adc33bcd",
   "metadata": {},
   "source": [
    "### 3. Filter()"
   ]
  },
  {
   "cell_type": "markdown",
   "id": "10d29dac",
   "metadata": {},
   "source": [
    "Let's say you have a list of numbers [1, 2, 3, 4, 5], and you want to filter out only the even numbers from this list using filter()."
   ]
  },
  {
   "cell_type": "markdown",
   "id": "db683692",
   "metadata": {},
   "source": [
    "firstly lets try it by for loop,"
   ]
  },
  {
   "cell_type": "code",
   "execution_count": 30,
   "id": "664b06ba",
   "metadata": {},
   "outputs": [
    {
     "data": {
      "text/plain": [
       "[2, 4]"
      ]
     },
     "execution_count": 30,
     "metadata": {},
     "output_type": "execute_result"
    }
   ],
   "source": [
    "numbers= [1, 2, 3, 4, 5]\n",
    "even_num=[]\n",
    "for num in numbers:\n",
    "    if num%2==0:\n",
    "        even_num.append(num)\n",
    "even_num"
   ]
  },
  {
   "cell_type": "markdown",
   "id": "b9631d5c",
   "metadata": {},
   "source": [
    "now,using filter()"
   ]
  },
  {
   "cell_type": "code",
   "execution_count": 31,
   "id": "5bf09466",
   "metadata": {},
   "outputs": [
    {
     "data": {
      "text/plain": [
       "[2, 4]"
      ]
     },
     "execution_count": 31,
     "metadata": {},
     "output_type": "execute_result"
    }
   ],
   "source": [
    "numbers= [1, 2, 3, 4, 5]\n",
    "even_num=list(filter(lambda x:x%2==0,numbers))\n",
    "even_num"
   ]
  },
  {
   "cell_type": "markdown",
   "id": "6abfe6f7",
   "metadata": {},
   "source": [
    "# 6.Generator Functions"
   ]
  },
  {
   "cell_type": "code",
   "execution_count": 2,
   "id": "fb0026f3",
   "metadata": {},
   "outputs": [
    {
     "name": "stdout",
     "output_type": "stream",
     "text": [
      "25\n"
     ]
    }
   ],
   "source": [
    "def square_generator(x):\n",
    "    square=x**2\n",
    "    yield square\n",
    "    \n",
    "value=square_generator(5)\n",
    "for num in value:\n",
    "    print(num)"
   ]
  },
  {
   "cell_type": "code",
   "execution_count": null,
   "id": "4e6f7734",
   "metadata": {},
   "outputs": [],
   "source": []
  }
 ],
 "metadata": {
  "kernelspec": {
   "display_name": "Python 3 (ipykernel)",
   "language": "python",
   "name": "python3"
  },
  "language_info": {
   "codemirror_mode": {
    "name": "ipython",
    "version": 3
   },
   "file_extension": ".py",
   "mimetype": "text/x-python",
   "name": "python",
   "nbconvert_exporter": "python",
   "pygments_lexer": "ipython3",
   "version": "3.11.5"
  }
 },
 "nbformat": 4,
 "nbformat_minor": 5
}
